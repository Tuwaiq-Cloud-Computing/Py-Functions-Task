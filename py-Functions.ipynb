{
 "cells": [
  {
   "attachments": {},
   "cell_type": "markdown",
   "metadata": {},
   "source": [
    "# Q1"
   ]
  },
  {
   "cell_type": "code",
   "execution_count": 2,
   "metadata": {},
   "outputs": [
    {
     "name": "stdout",
     "output_type": "stream",
     "text": [
      "23\n"
     ]
    }
   ],
   "source": [
    "def Sum(x,y):\n",
    "    return x + y\n",
    "print(Sum(11,12))"
   ]
  },
  {
   "attachments": {},
   "cell_type": "markdown",
   "metadata": {},
   "source": [
    "# Q2"
   ]
  },
  {
   "cell_type": "code",
   "execution_count": 3,
   "metadata": {},
   "outputs": [
    {
     "name": "stdout",
     "output_type": "stream",
     "text": [
      "Nhone\n",
      "Name\n",
      "Email\n"
     ]
    }
   ],
   "source": [
    "items = [\"Nhone\",\"Name\",\"Email\"]\n",
    "for item in items:\n",
    "    print(item)"
   ]
  },
  {
   "attachments": {},
   "cell_type": "markdown",
   "metadata": {},
   "source": [
    "# Q3"
   ]
  },
  {
   "cell_type": "code",
   "execution_count": 4,
   "metadata": {},
   "outputs": [
    {
     "name": "stdout",
     "output_type": "stream",
     "text": [
      "465\n"
     ]
    }
   ],
   "source": [
    "counter = 0\n",
    "numbers = [3,5,74,34,26,323]\n",
    "for i in numbers:\n",
    "    counter += i \n",
    "print(counter)"
   ]
  },
  {
   "attachments": {},
   "cell_type": "markdown",
   "metadata": {},
   "source": [
    "# Q4"
   ]
  },
  {
   "cell_type": "code",
   "execution_count": 5,
   "metadata": {},
   "outputs": [
    {
     "name": "stdout",
     "output_type": "stream",
     "text": [
      "1000\n"
     ]
    }
   ],
   "source": [
    "numbers = [3,5,74,1000,26,323]   \n",
    "numbers.sort()\n",
    "print(numbers[-1])"
   ]
  },
  {
   "attachments": {},
   "cell_type": "markdown",
   "metadata": {},
   "source": [
    "# Q5"
   ]
  },
  {
   "cell_type": "code",
   "execution_count": 6,
   "metadata": {},
   "outputs": [
    {
     "name": "stdout",
     "output_type": "stream",
     "text": [
      "[3, 5, 26]\n",
      "List index is out of range\n",
      "None\n"
     ]
    }
   ],
   "source": [
    "def partialList(IndexList,lastIndex):\n",
    "    if lastIndex <= len(IndexList):\n",
    "        return IndexList[:lastIndex]\n",
    "    else:\n",
    "        print(\"List index is out of range\")\n",
    "print(partialList(numbers,3))\n",
    "print(partialList(numbers,10))"
   ]
  },
  {
   "attachments": {},
   "cell_type": "markdown",
   "metadata": {},
   "source": [
    "# Q6"
   ]
  },
  {
   "cell_type": "code",
   "execution_count": 7,
   "metadata": {},
   "outputs": [
    {
     "name": "stdout",
     "output_type": "stream",
     "text": [
      "T\n",
      "u\n",
      "w\n",
      "a\n",
      "i\n",
      "q\n",
      "_\n",
      "A\n",
      "c\n",
      "a\n",
      "d\n",
      "e\n",
      "m\n",
      "y\n"
     ]
    }
   ],
   "source": [
    "Str = 'Tuwaiq_Academy'\n",
    "for i in Str:\n",
    "    print(i)"
   ]
  },
  {
   "attachments": {},
   "cell_type": "markdown",
   "metadata": {},
   "source": [
    "# Q7"
   ]
  },
  {
   "cell_type": "code",
   "execution_count": 8,
   "metadata": {},
   "outputs": [
    {
     "name": "stdout",
     "output_type": "stream",
     "text": [
      "we gonna break\n"
     ]
    }
   ],
   "source": [
    "lis = [\"Python\", \"C++\", \"Java\"]\n",
    "for i in lis:\n",
    "    if i == \"C++\":\n",
    "        print(\"we gonna break\")\n",
    "        break"
   ]
  },
  {
   "attachments": {},
   "cell_type": "markdown",
   "metadata": {},
   "source": [
    "# Q8"
   ]
  },
  {
   "cell_type": "code",
   "execution_count": 9,
   "metadata": {},
   "outputs": [
    {
     "name": "stdout",
     "output_type": "stream",
     "text": [
      "Before sorting and reversing:  [3, 5, 74, 0, 2, 1, 34, 26, 323]\n",
      "After sorting and reversing:  [323, 74, 34, 26, 5, 3, 2, 1, 0]\n"
     ]
    }
   ],
   "source": [
    "numbers = [3,5,74,0,2,1,34,26,323]\n",
    "print(\"Before sorting and reversing: \", numbers)\n",
    "def SortDes(revList):\n",
    "    revList.sort()\n",
    "    revList.reverse()\n",
    "    return revList\n",
    "print(\"After sorting and reversing: \",SortDes(numbers))\n"
   ]
  },
  {
   "attachments": {},
   "cell_type": "markdown",
   "metadata": {},
   "source": [
    "# Q9"
   ]
  },
  {
   "cell_type": "code",
   "execution_count": 44,
   "metadata": {},
   "outputs": [],
   "source": [
    "import re # reget expression\n",
    "def phoneBook(phoneNumber):\n",
    "    contactTable=[{\"name\":\"Ahmed\",\"Phone\":\"0551112222\"},\n",
    "                {\"name\":\"Saad\",\"Phone\":\"0551113333\"},\n",
    "                {\"name\":\"Sultan\",\"Phone\":\"0551114444\"},\n",
    "                {\"name\":\"Morad\",\"Phone\":\"0551115555\"},\n",
    "                {\"name\":\"Abdullah\",\"Phone\":\"0551116666\"}]     \n",
    "    if re.match(\"05[0-9]{8}\",phoneNumber):\n",
    "        for i in range(len(contactTable)):\n",
    "            if phoneNumber == contactTable[i][\"Phone\"]:\n",
    "                print(contactTable[i][\"name\"])\n",
    "                return None\n",
    "                # return contactTable[i][\"name\"]\n",
    "            \n",
    "    else:\n",
    "        print(\"This is invalid number\")\n",
    "        return -1\n",
    "    print(\"Sorry, the number is not found\")"
   ]
  },
  {
   "cell_type": "code",
   "execution_count": 46,
   "metadata": {},
   "outputs": [
    {
     "name": "stdout",
     "output_type": "stream",
     "text": [
      "Ahmed\n",
      "This is invalid number\n",
      "Sorry, the number is not found\n"
     ]
    }
   ],
   "source": [
    "phoneBook(\"0551112222\")\n",
    "phoneBook(\"055111222A\")\n",
    "phoneBook(\"0551112229\")"
   ]
  }
 ],
 "metadata": {
  "kernelspec": {
   "display_name": "ImageClassification",
   "language": "python",
   "name": "imageclassification"
  },
  "language_info": {
   "codemirror_mode": {
    "name": "ipython",
    "version": 3
   },
   "file_extension": ".py",
   "mimetype": "text/x-python",
   "name": "python",
   "nbconvert_exporter": "python",
   "pygments_lexer": "ipython3",
   "version": "3.9.12"
  },
  "orig_nbformat": 4
 },
 "nbformat": 4,
 "nbformat_minor": 2
}
